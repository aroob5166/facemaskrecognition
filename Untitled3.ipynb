{
 "cells": [
  {
   "cell_type": "code",
   "execution_count": 1,
   "metadata": {},
   "outputs": [],
   "source": [
    "import os\n",
    "import numpy as np\n",
    "from tensorflow.keras.preprocessing.image import img_to_array, load_img, ImageDataGenerator\n",
    "from tensorflow.keras.applications import MobileNetV2\n",
    "from tensorflow.keras.applications.mobilenet_v2 import preprocess_input\n",
    "from tensorflow.keras.utils import to_categorical\n",
    "from tensorflow.keras.layers import Input, AveragePooling2D, Dropout, Flatten , Dense\n",
    "from tensorflow.keras.models import Model\n",
    "from tensorflow.keras.optimizers import Adam\n",
    "from sklearn.preprocessing import LabelBinarizer\n",
    "from sklearn.model_selection import train_test_split\n",
    "from sklearn.metrics import classification_report\n",
    "import matplotlib.pyplot as plt\n"
   ]
  },
  {
   "cell_type": "code",
   "execution_count": 2,
   "metadata": {},
   "outputs": [],
   "source": [
    "INIT_LR = 1e-4\n",
    "EPOCHS = 20\n",
    "BS = 32\n",
    "DIRECTORY = r\"C:\\Users\\aroob\\Desktop\\mask detector\\mask-detector\\dataset\"\n",
    "CATEGORIES = [\"with_mask\",\"without_mask\"]"
   ]
  },
  {
   "cell_type": "code",
   "execution_count": 3,
   "metadata": {},
   "outputs": [
    {
     "name": "stderr",
     "output_type": "stream",
     "text": [
      "C:\\Users\\aroob\\AppData\\Roaming\\Python\\Python37\\site-packages\\PIL\\Image.py:963: UserWarning: Palette images with Transparency expressed in bytes should be converted to RGBA images\n",
      "  \"Palette images with Transparency expressed in bytes should be \"\n"
     ]
    }
   ],
   "source": [
    "## Loading dataset\n",
    "data = []\n",
    "labels = []\n",
    "CATEGORIES = [\"with_mask\",\"without_mask\"]\n",
    "DIRECTORY = r\"C:\\Users\\aroob\\Desktop\\mask detector\\mask-detector\\dataset\"\n",
    "import os\n",
    "import numpy as np\n",
    "from tensorflow.keras.preprocessing.image import img_to_array, load_img, ImageDataGenerator\n",
    "from tensorflow.keras.applications import MobileNetV2\n",
    "from tensorflow.keras.applications.mobilenet_v2 import preprocess_input\n",
    "for category in CATEGORIES:\n",
    "    path = os.path.join(DIRECTORY,category)\n",
    "    for imgName in os.listdir(path):\n",
    "        imgPath = os.path.join(path,imgName)\n",
    "        img = load_img(imgPath,target_size=(224,224))\n",
    "        img = img_to_array(img)\n",
    "        img = preprocess_input(img)\n",
    "        \n",
    "        data.append(img)\n",
    "        labels.append(category)\n",
    "from sklearn.preprocessing import LabelBinarizer\n",
    "from tensorflow.keras.utils import to_categorical\n",
    "\n",
    "\n",
    "lb = LabelBinarizer()\n",
    "labels = lb.fit_transform(labels)\n",
    "labels = to_categorical(labels)\n",
    "\n",
    "data = np.array(data,dtype=\"float32\")\n",
    "labels = np.array(labels)"
   ]
  },
  {
   "cell_type": "code",
   "execution_count": 4,
   "metadata": {},
   "outputs": [
    {
     "name": "stdout",
     "output_type": "stream",
     "text": [
      "WARNING:tensorflow:`input_shape` is undefined or non-square, or `rows` is not in [96, 128, 160, 192, 224]. Weights for input shape (224, 224) will be loaded as the default.\n"
     ]
    }
   ],
   "source": [
    "## Processing Dataset\n",
    "\n",
    "from sklearn.model_selection import train_test_split\n",
    "(trainX,testX,trainY,testY)=train_test_split(data,labels,test_size=0.20,stratify=labels,random_state=42)\n",
    "\n",
    "aug = ImageDataGenerator(\n",
    "    rotation_range = 20,\n",
    "    zoom_range = 0.15,\n",
    "    width_shift_range=0.2,\n",
    "    height_shift_range = 0.2,\n",
    "    shear_range = 0.15,\n",
    "    horizontal_flip = True,\n",
    "    fill_mode = \"nearest\",\n",
    "    \n",
    ")\n",
    "from tensorflow.keras.applications import MobileNetV2\n",
    "from tensorflow.keras.layers import Input, AveragePooling2D, Dropout, Flatten , Dense\n",
    "from tensorflow.keras.models import Model\n",
    "baseModel = MobileNetV2(weights = \"imagenet\", include_top = False,input_tensor = Input(shape = (224,224,3)))\n",
    "\n",
    "headModel = baseModel.output\n",
    "headModel = AveragePooling2D(pool_size=(7,7))(headModel)\n",
    "headModel = Flatten(name = \"flatten\")(headModel)\n",
    "headModel = Dense(128,activation = \"relu\")(headModel)\n",
    "headModel = Dropout(0.5)(headModel)\n",
    "headModel = Dense(2, activation = \"softmax\")(headModel)\n",
    "\n",
    "model = Model(inputs = baseModel.input, outputs = headModel)\n",
    "\n",
    "for layer in baseModel.layers:\n",
    "    layer.trainable = False"
   ]
  },
  {
   "cell_type": "code",
   "execution_count": 5,
   "metadata": {},
   "outputs": [],
   "source": [
    "## Compiling model\n",
    "from tensorflow.keras.optimizers import Adam\n",
    "INIT_LR = 1e-4\n",
    "EPOCHS = 20\n",
    "BS = 32\n",
    "opt = Adam(lr = INIT_LR/EPOCHS)\n",
    "model.compile(loss = \"binary_crossentropy\",optimizer = opt,metrics = [\"accuracy\"])"
   ]
  },
  {
   "cell_type": "code",
   "execution_count": 6,
   "metadata": {},
   "outputs": [
    {
     "name": "stdout",
     "output_type": "stream",
     "text": [
      "Epoch 1/20\n",
      "95/95 [==============================] - 181s 2s/step - loss: 0.7963 - accuracy: 0.5665 - val_loss: 0.6361 - val_accuracy: 0.7419\n",
      "Epoch 2/20\n",
      "95/95 [==============================] - 122s 1s/step - loss: 0.7299 - accuracy: 0.6065 - val_loss: 0.5669 - val_accuracy: 0.8214\n",
      "Epoch 3/20\n",
      "95/95 [==============================] - 108s 1s/step - loss: 0.6449 - accuracy: 0.7077 - val_loss: 0.5105 - val_accuracy: 0.8748\n",
      "Epoch 4/20\n",
      "95/95 [==============================] - 107s 1s/step - loss: 0.5906 - accuracy: 0.7522 - val_loss: 0.4625 - val_accuracy: 0.9074\n",
      "Epoch 5/20\n",
      "95/95 [==============================] - 116s 1s/step - loss: 0.5368 - accuracy: 0.7938 - val_loss: 0.4206 - val_accuracy: 0.9361\n",
      "Epoch 6/20\n",
      "95/95 [==============================] - 109s 1s/step - loss: 0.4864 - accuracy: 0.8454 - val_loss: 0.3830 - val_accuracy: 0.9544\n",
      "Epoch 7/20\n",
      "95/95 [==============================] - 110s 1s/step - loss: 0.4512 - accuracy: 0.8585 - val_loss: 0.3491 - val_accuracy: 0.9609\n",
      "Epoch 8/20\n",
      "95/95 [==============================] - 125s 1s/step - loss: 0.4041 - accuracy: 0.8826 - val_loss: 0.3205 - val_accuracy: 0.9687\n",
      "Epoch 9/20\n",
      "95/95 [==============================] - 110s 1s/step - loss: 0.3864 - accuracy: 0.8957 - val_loss: 0.2944 - val_accuracy: 0.9713\n",
      "Epoch 10/20\n",
      "95/95 [==============================] - 109s 1s/step - loss: 0.3593 - accuracy: 0.9137 - val_loss: 0.2716 - val_accuracy: 0.9739\n",
      "Epoch 11/20\n",
      "95/95 [==============================] - 111s 1s/step - loss: 0.3259 - accuracy: 0.9170 - val_loss: 0.2508 - val_accuracy: 0.9752\n",
      "Epoch 12/20\n",
      "95/95 [==============================] - 109s 1s/step - loss: 0.3019 - accuracy: 0.9331 - val_loss: 0.2335 - val_accuracy: 0.9817\n",
      "Epoch 13/20\n",
      "95/95 [==============================] - 116s 1s/step - loss: 0.2828 - accuracy: 0.9409 - val_loss: 0.2176 - val_accuracy: 0.9817\n",
      "Epoch 14/20\n",
      "95/95 [==============================] - 112s 1s/step - loss: 0.2730 - accuracy: 0.9401 - val_loss: 0.2029 - val_accuracy: 0.9817\n",
      "Epoch 15/20\n",
      "95/95 [==============================] - 109s 1s/step - loss: 0.2607 - accuracy: 0.9456 - val_loss: 0.1900 - val_accuracy: 0.9831\n",
      "Epoch 16/20\n",
      "95/95 [==============================] - 109s 1s/step - loss: 0.2366 - accuracy: 0.9489 - val_loss: 0.1789 - val_accuracy: 0.9844\n",
      "Epoch 17/20\n",
      "95/95 [==============================] - 111s 1s/step - loss: 0.2387 - accuracy: 0.9494 - val_loss: 0.1679 - val_accuracy: 0.9857\n",
      "Epoch 18/20\n",
      "95/95 [==============================] - 110s 1s/step - loss: 0.2092 - accuracy: 0.9581 - val_loss: 0.1589 - val_accuracy: 0.9857\n",
      "Epoch 19/20\n",
      "95/95 [==============================] - 111s 1s/step - loss: 0.2188 - accuracy: 0.9434 - val_loss: 0.1504 - val_accuracy: 0.9857\n",
      "Epoch 20/20\n",
      "95/95 [==============================] - 110s 1s/step - loss: 0.2019 - accuracy: 0.9503 - val_loss: 0.1422 - val_accuracy: 0.9870\n"
     ]
    }
   ],
   "source": [
    "## Training model\n",
    "from sklearn.model_selection import train_test_split\n",
    "(trainX,testX,trainY,testY)=train_test_split(data,labels,test_size=0.20,stratify=labels,random_state=42)\n",
    "\n",
    "H = model.fit(\n",
    "      aug.flow(trainX,trainY,batch_size=BS),\n",
    "      steps_per_epoch = len(trainX)//BS,\n",
    "      validation_data = (testX,testY),\n",
    "      validation_steps = len(testX)//BS,\n",
    "      epochs = EPOCHS\n",
    "      \n",
    ")"
   ]
  },
  {
   "cell_type": "code",
   "execution_count": 9,
   "metadata": {},
   "outputs": [
    {
     "name": "stdout",
     "output_type": "stream",
     "text": [
      "              precision    recall  f1-score   support\n",
      "\n",
      "   with_mask       0.98      0.99      0.99       383\n",
      "without_mask       0.99      0.98      0.99       384\n",
      "\n",
      "    accuracy                           0.99       767\n",
      "   macro avg       0.99      0.99      0.99       767\n",
      "weighted avg       0.99      0.99      0.99       767\n",
      "\n"
     ]
    }
   ],
   "source": [
    "## Evaluation model\n",
    "predIdxs = model.predict(testX,batch_size=BS)\n",
    "\n",
    "predIdxs = np.argmax(predIdxs , axis = 1)\n",
    "print(classification_report(testY.argmax(axis=1), predIdxs,target_names=lb.classes_))\n"
   ]
  },
  {
   "cell_type": "code",
   "execution_count": 10,
   "metadata": {},
   "outputs": [],
   "source": [
    "## Saving model\n",
    "\n",
    "model.save(\"mask_detector.model\",save_format=\"h5\")"
   ]
  },
  {
   "cell_type": "markdown",
   "metadata": {},
   "source": []
  },
  {
   "cell_type": "code",
   "execution_count": 11,
   "metadata": {},
   "outputs": [
    {
     "data": {
      "image/png": "[encoded data removed]",
      "text/plain": [
       "<Figure size 432x288 with 1 Axes>"
      ]
     },
     "metadata": {},
     "output_type": "display_data"
    }
   ],
   "source": [
    "## Plotting graph\n",
    "N = EPOCHS\n",
    "import matplotlib.pyplot as plt\n",
    "plt.style.use(\"ggplot\")\n",
    "plt.figure()\n",
    "plt.plot(np.arange(0,N),H.history[\"loss\"],label=\"train_loss\")\n",
    "plt.plot(np.arange(0,N),H.history[\"val_loss\"],label=\"val_loss\")\n",
    "plt.plot(np.arange(0,N),H.history[\"accuracy\"],label=\"train_acc\")\n",
    "plt.plot(np.arange(0,N),H.history[\"val_accuracy\"],label=\"val_accuracy\")\n",
    "plt.title('Training Loss And Accuracy')\n",
    "plt.xlabel(\"Epoch #\")\n",
    "plt.ylabel('Loss/Accuracy')\n",
    "plt.legend(loc = \"lower left\")\n",
    "plt.savefig('plot.png')"
   ]
  },
  {
   "cell_type": "code",
   "execution_count": null,
   "metadata": {},
   "outputs": [],
   "source": []
  }
 ],
 "metadata": {
  "kernelspec": {
   "display_name": "Python 3",
   "language": "python",
   "name": "python3"
  },
  "language_info": {
   "codemirror_mode": {
    "name": "ipython",
    "version": 3
   },
   "file_extension": ".py",
   "mimetype": "text/x-python",
   "name": "python",
   "nbconvert_exporter": "python",
   "pygments_lexer": "ipython3",
   "version": "3.7.9"
  }
 },
 "nbformat": 4,
 "nbformat_minor": 5
}